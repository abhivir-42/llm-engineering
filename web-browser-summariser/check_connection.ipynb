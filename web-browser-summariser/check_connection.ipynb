{
 "cells": [
  {
   "cell_type": "code",
   "execution_count": 3,
   "metadata": {},
   "outputs": [],
   "source": [
    "# imports\n",
    "\n",
    "from dotenv import load_dotenv\n",
    "from IPython.display import Markdown, display, update_display\n",
    "from openai import OpenAI\n",
    "import ollama"
   ]
  },
  {
   "cell_type": "code",
   "execution_count": 4,
   "metadata": {},
   "outputs": [],
   "source": [
    "# constants\n",
    "\n",
    "MODEL_GPT = 'gpt-4o-mini'\n",
    "MODEL_LLAMA = 'llama3.2'"
   ]
  },
  {
   "cell_type": "code",
   "execution_count": 5,
   "metadata": {},
   "outputs": [],
   "source": [
    "# set up environment\n",
    "\n",
    "load_dotenv()\n",
    "openai = OpenAI()"
   ]
  },
  {
   "cell_type": "code",
   "execution_count": 6,
   "metadata": {},
   "outputs": [],
   "source": [
    "# here is the question; type over this to ask something new\n",
    "\n",
    "question = \"\"\"\n",
    "Please explain what this code does and why:\n",
    "yield from {book.get(\"author\") for book in books if book.get(\"author\")}\n",
    "\"\"\""
   ]
  },
  {
   "cell_type": "code",
   "execution_count": 7,
   "metadata": {},
   "outputs": [],
   "source": [
    "# prompts\n",
    "\n",
    "system_prompt = \"You are a helpful technical tutor who answers questions about python code, software engineering, data science and LLMs\"\n",
    "user_prompt = \"Please give a detailed explanation to the following question: \" + question"
   ]
  },
  {
   "cell_type": "code",
   "execution_count": 8,
   "metadata": {},
   "outputs": [],
   "source": [
    "# messages\n",
    "\n",
    "messages = [\n",
    "    {\"role\": \"system\", \"content\": system_prompt},\n",
    "    {\"role\": \"user\", \"content\": user_prompt}\n",
    "]"
   ]
  },
  {
   "cell_type": "code",
   "execution_count": 9,
   "metadata": {},
   "outputs": [
    {
     "data": {
      "text/markdown": [
       "The code snippet you provided is a Python expression that utilizes the `yield from` construct in combination with a set comprehension. Let's break down what it does step by step.\n",
       "\n",
       "### Components of the Expression\n",
       "\n",
       "1. **Set Comprehension**:\n",
       "   python\n",
       "   {book.get(\"author\") for book in books if book.get(\"author\")}\n",
       "   \n",
       "   This part of the code is a set comprehension, which is used to generate a set of unique elements. Here's what it does:\n",
       "   \n",
       "   - `book in books`: This iterates over a collection called `books`, where `books` is expected to be a list (or any iterable) of dictionaries.\n",
       "   - `book.get(\"author\")`: For each `book`, this retrieves the value associated with the key `\"author\"`. The `get` method is used instead of the dictionary access method (i.e., `book[\"author\"]`) because `get` will return `None` (or a specified default) if the key doesn't exist instead of raising a `KeyError`.\n",
       "   - `if book.get(\"author\")`: This conditional checks that the value retrieved is truthy (i.e., it checks that the book has an author). If the author is not found (i.e., the value is `None` or an empty string, which are both considered falsy), that specific book is skipped.\n",
       "\n",
       "   As a result, this set comprehension constructs a set of unique authors from the `books` collection, excluding any entries where the author is missing or not defined.\n",
       "\n",
       "2. **`yield from`**:\n",
       "   python\n",
       "   yield from ...\n",
       "   \n",
       "   The `yield from` statement is used in Python to simplify the yielding of values from a generator. It delegates the yielding of values to a sub-iterable (in this case, the set created by the set comprehension). \n",
       "\n",
       "   When a generator function uses `yield from`, it will yield all values from the specified iterable in order, allowing its calling context to receive each value produced by the generator.\n",
       "\n",
       "### Overall Purpose\n",
       "\n",
       "Combining the two components, the entire expression:\n",
       "python\n",
       "yield from {book.get(\"author\") for book in books if book.get(\"author\")}\n",
       "\n",
       "is likely found inside a generator function. Here’s what this line accomplishes:\n",
       "\n",
       "- It constructs a set of unique authors from the `books` collection, ensuring that only books with a defined author contribute to the set.\n",
       "- It then yields each unique author one by one to the caller of the generator function.\n",
       "\n",
       "### Why Use This Code?\n",
       "\n",
       "The use of a set comprehension ensures that duplicate authors are automatically filtered out. Returning authors in this manner can be useful in applications where you want to collect non-redundant information rapidly, such as a list of distinct authors from a library of books.\n",
       "\n",
       "Additionally, using `yield from` promotes memory efficiency when dealing with potentially large datasets because it produces values on-the-fly rather than creating and returning an entire collection at once.\n",
       "\n",
       "### Example\n",
       "\n",
       "To illustrate, consider the following example:\n",
       "\n",
       "python\n",
       "books = [\n",
       "    {\"title\": \"Book A\", \"author\": \"Author 1\"},\n",
       "    {\"title\": \"Book B\", \"author\": \"Author 2\"},\n",
       "    {\"title\": \"Book C\", \"author\": \"Author 1\"},\n",
       "    {\"title\": \"Book D\", \"author\": None},\n",
       "]\n",
       "\n",
       "def get_unique_authors(books):\n",
       "    yield from {book.get(\"author\") for book in books if book.get(\"author\")}\n",
       "\n",
       "# Using the generator\n",
       "for author in get_unique_authors(books):\n",
       "    print(author)\n",
       "\n",
       "\n",
       "This will output:\n",
       "\n",
       "Author 1\n",
       "Author 2\n",
       "\n",
       "\n",
       "In this example, the duplicate author \"Author 1\" appears only once in the output, showcasing the capability of the code to filter out non-unique values efficiently."
      ],
      "text/plain": [
       "<IPython.core.display.Markdown object>"
      ]
     },
     "metadata": {},
     "output_type": "display_data"
    }
   ],
   "source": [
    "# Get gpt-4o-mini to answer, with streaming\n",
    "\n",
    "stream = openai.chat.completions.create(model=MODEL_GPT, messages=messages,stream=True)\n",
    "    \n",
    "response = \"\"\n",
    "display_handle = display(Markdown(\"\"), display_id=True)\n",
    "for chunk in stream:\n",
    "    response += chunk.choices[0].delta.content or ''\n",
    "    response = response.replace(\"```\",\"\").replace(\"markdown\", \"\")\n",
    "    update_display(Markdown(response), display_id=display_handle.display_id)"
   ]
  },
  {
   "cell_type": "code",
   "execution_count": null,
   "metadata": {},
   "outputs": [],
   "source": [
    "# Get Llama 3.2 to answer\n",
    "\n",
    "response = ollama.chat(model=MODEL_LLAMA, messages=messages)\n",
    "reply = response['message']['content']\n",
    "display(Markdown(reply))"
   ]
  },
  {
   "cell_type": "code",
   "execution_count": null,
   "metadata": {},
   "outputs": [],
   "source": []
  }
 ],
 "metadata": {
  "kernelspec": {
   "display_name": "myenv",
   "language": "python",
   "name": "python3"
  },
  "language_info": {
   "codemirror_mode": {
    "name": "ipython",
    "version": 3
   },
   "file_extension": ".py",
   "mimetype": "text/x-python",
   "name": "python",
   "nbconvert_exporter": "python",
   "pygments_lexer": "ipython3",
   "version": "3.10.5"
  }
 },
 "nbformat": 4,
 "nbformat_minor": 2
}
